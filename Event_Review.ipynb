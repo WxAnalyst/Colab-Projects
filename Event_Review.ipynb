{
  "nbformat": 4,
  "nbformat_minor": 0,
  "metadata": {
    "colab": {
      "provenance": [],
      "authorship_tag": "ABX9TyNBU04idn4v9kpDyUh6Wbh/",
      "include_colab_link": true
    },
    "kernelspec": {
      "name": "python3",
      "display_name": "Python 3"
    },
    "language_info": {
      "name": "python"
    }
  },
  "cells": [
    {
      "cell_type": "markdown",
      "metadata": {
        "id": "view-in-github",
        "colab_type": "text"
      },
      "source": [
        "<a href=\"https://colab.research.google.com/github/WxAnalyst/Event_Review/blob/main/Event_Review.ipynb\" target=\"_parent\"><img src=\"https://colab.research.google.com/assets/colab-badge.svg\" alt=\"Open In Colab\"/></a>"
      ]
    },
    {
      "cell_type": "markdown",
      "source": [
        "#Event Review\n",
        "Author: John Hinsberger\n",
        "\n",
        "This program is designed to fetch weather data for a specific date and time. Data will be gathered using the Herbie library and displayed using MetPy's declarative plotting."
      ],
      "metadata": {
        "id": "1fDlJEzIneVq"
      }
    },
    {
      "cell_type": "code",
      "execution_count": null,
      "metadata": {
        "id": "B-ZdbWSpbTb2"
      },
      "outputs": [],
      "source": [
        "!pip install -q condacolab\n",
        "import condacolab\n",
        "condacolab.install()\n",
        "!mamba install -q -c conda-forge cartopy contextily pyproj pyepsg xesmf netCDF4 herbie-data metpy eccodes xarray  #installs everything using the conda environment we installed above"
      ]
    },
    {
      "cell_type": "code",
      "source": [
        "from cartopy import crs as ccrs, feature as cfeature\n",
        "import matplotlib.pyplot as plt\n",
        "import xarray as xr\n",
        "import metpy\n",
        "import numpy as np\n",
        "from metpy.calc import reduce_point_density, wind_components\n",
        "from metpy.plots import ContourPlot, MapPanel, ImagePlot, PanelContainer, FilledContourPlot, PlotObs, BarbPlot\n",
        "from metpy.units import units\n",
        "from herbie import Herbie"
      ],
      "metadata": {
        "id": "ccqsHGPgnldn"
      },
      "execution_count": null,
      "outputs": []
    },
    {
      "cell_type": "code",
      "source": [
        "event_date = \"2018-05-31\" #@param {type:\"date\"}\n",
        "event_time = 21 #@param {type:\"slider\", min:0, max:23, step:1}\n",
        "event_time=str(event_time)+\":00\"\n",
        "dtg = event_date+\" \"+event_time\n",
        "mdl = \"hrrr\" #@param ['hrrr','nbm']\n",
        "#@markdown <b>Select forecast hour</b><br />\n",
        "fhr = 1 #@param {type:\"slider\", min:0, max:12, step:1}\n",
        "step = np.arange(0, 49, 1, dtype=int)\n",
        "dt = str.split(event_date,'-')\n",
        "elements = \"severe\" #@param ['severe','fire','winter']\n",
        "\n",
        "def model(mdl):\n",
        "  if mdl == 'hrrr':\n",
        "    product = 'sfc'\n",
        "  if mdl == 'nbm':\n",
        "    product = 'co'\n",
        "  if mdl == 'nam':\n",
        "    product = 'conusnest.hiresf'\n",
        "  if mdl == 'rap':\n",
        "    product = 'awp130bgrb'\n",
        "  if mdl == 'gfs':\n",
        "    product = 'pgrb2.0p25'\n",
        "\n",
        "  return product\n",
        "\n",
        "def getSubsets(mdl, elements):\n",
        "  \"\"\"\n",
        "  Retrieves the datasets and returns a metpy PanelContainer.\n",
        "    mdl: 'hrrr', 'nbm'\n",
        "    elements: 'severe', 'fire', 'winter'\n",
        "  \"\"\"\n",
        "  if mdl == 'hrrr':\n",
        "    if elements == 'severe':\n",
        "      ds_pres = H.xarray(\":MSLMA:mean sea level\")\n",
        "      ds_u = H.xarray(':UGRD:10 m above')\n",
        "      ds_v = H.xarray(':VGRD:10 m above')\n",
        "      ds_refl = H.xarray(\":REFC:entire atmosphere\")\n",
        "      ds_height = H.xarray(\":HGT:surface\")\n",
        "      ds_temp = H.xarray(\":TMP:2 m\")\n",
        "      ds_cape = H.xarray(\":CAPE:surface\")\n",
        "\n",
        "      pressure = ds_pres.metpy.parse_cf('mslma',coordinates={'time':'time','vertical':ds_pres.mslma.GRIB_typeOfLevel,'longitude':'longitude','latitude':'latitude'})\n",
        "      pressure = pressure.metpy.assign_y_x(force = True)\n",
        "      pressure = pressure.metpy.convert_units('hPa')\n",
        "      pressure = pressure.assign_attrs({\"GRIB_units\":\"mb\"})\n",
        "      u = ds_u.metpy.parse_cf('u10', coordinates={'time':'time','vertical':ds_u.u10.GRIB_typeOfLevel,'longitude':'longitude','latitude':'latitude'})\n",
        "      v = ds_v.metpy.parse_cf('v10', coordinates={'time':'time','vertical':ds_v.v10.GRIB_typeOfLevel,'longitude':'longitude','latitude':'latitude'})\n",
        "      u = u.metpy.assign_y_x(force = True)\n",
        "      v = v.metpy.assign_y_x(force = True)\n",
        "      wind = xr.merge([u,v], compat='override')\n",
        "      refl = ds_refl.metpy.parse_cf('refc',coordinates={'time':'time','vertical':ds_refl.refc.GRIB_typeOfLevel,'longitude':'longitude','latitude':'latitude'})\n",
        "      refl = refl.metpy.assign_y_x(force = True)\n",
        "      topo = ds_height.metpy.parse_cf('orog',coordinates={'time':'time','vertical':ds_height.orog.GRIB_typeOfLevel,'longitude':'longitude','latitude':'latitude'})\n",
        "      topo = topo.metpy.assign_y_x(force = True)\n",
        "      cape = ds_cape.metpy.parse_cf('cape',coordinates={'time':'time','vertical':ds_cape.cape.GRIB_typeOfLevel,'longitude':'longitude','latitude':'latitude'})\n",
        "      cape = cape.metpy.assign_y_x(force = True)\n",
        "\n",
        "     \n",
        "      contour = FilledContourPlot()\n",
        "      contour.data = refl\n",
        "      contour.colorbar = 'vertical'\n",
        "      contour.contours = list(range(5 , 80, 5))\n",
        "      contour.colormap = 'NWSReflectivity'\n",
        "\n",
        "      height = ImagePlot()\n",
        "      height.data = topo\n",
        "      height.smooth_field = 3\n",
        "      height.colormap = 'terrain'\n",
        "      height.plot_units = 'ft'\n",
        "      height.image_range = (-2000, 13000)\n",
        "\n",
        "      contour_prs = ContourPlot()\n",
        "      contour_prs.data = pressure\n",
        "      contour_prs.linecolor = 'black'\n",
        "      contour_prs.clabels = True\n",
        "      contour_prs.label_fontsize = 12\n",
        "\n",
        "      barb = BarbPlot()\n",
        "      barb.data = wind\n",
        "      barb.field = ('u10','v10')\n",
        "      barb.color = 'black'\n",
        "      barb.plot_units = 'kt'\n",
        "      barb.skip = (5,5)\n",
        "      barb.barblength = 5.5\n",
        "\n",
        "      sfccape = FilledContourPlot()\n",
        "      sfccape.data = cape\n",
        "      sfccape.colorbar = 'vertical'\n",
        "      sfccape.contours = list(range(50, 2000, 50))\n",
        "      sfccape.colormap = 'jet'\n",
        "\n",
        "      panel = MapPanel()\n",
        "      panel.projection = ccrs.LambertConformal(central_longitude = -114)\n",
        "      panel.area = [-118, -110, 41, 47]   # or 'id', 'us'\n",
        "      panel.layers = ['coastline', 'borders', 'states', 'uscounties']\n",
        "      panel.layers_linewidth = [2, 3, 3, 2]\n",
        "      panel.left_title = ds_refl.model.upper() +\" \"+H.product_description+\": \\n\"+\"Valid: \"+ds_refl.valid_time.dt.strftime('%H:%M UTC %d %b %Y').item()\n",
        "      panel.title_fontsize = 18\n",
        "      panel.right_title = ds_refl.refc.GRIB_name +\"\\n\" + ds_pres.mslma.GRIB_name+\"\\n10 meter wind (kt)\"\n",
        "      panel.plots = [height, contour, contour_prs, barb]\n",
        "      panel.layout = (1,2,1)\n",
        "\n",
        "      panel2 = MapPanel()\n",
        "      panel2.projection = ccrs.LambertConformal(central_longitude = -114)\n",
        "      panel2.area = [-118, -110, 41, 47]\n",
        "      panel2.layers = ['coastline', 'borders', 'states', 'uscounties']\n",
        "      panel2.layers_linewidth = [2, 3, 3, 2]\n",
        "      panel2.left_title = ds_cape.model.upper() + \"\\n\" + H.product_description + \": \\n Valid: \" + ds_cape.valid_time.dt.strftime('%H:%M UTC %d %b %Y').item()\n",
        "      panel2.title_fontsize = 18\n",
        "      panel2.right_title = ds_cape.model.upper() + \"\\n\" + ds_cape.cape.GRIB_name\n",
        "      panel2.plots = [sfccape]\n",
        "      panel2.layout = (1,2,2)\n",
        "      \n",
        "      pc = PanelContainer()\n",
        "      pc.size = (30, 20)\n",
        "      pc.panels = [panel, panel2]\n",
        "      #pc.show()\n",
        "      return pc\n",
        "      \n",
        "    if elements == 'fire':\n",
        "      pass\n",
        "    if elements == 'winter':\n",
        "      pass\n",
        "  \n",
        "  if mdl =='nbm':\n",
        "    if elements == 'severe':\n",
        "      ds_temp = H.xarray(\":TMP:2 m\")\n",
        "      ds_refl = H.xarray(\":MAXREF:1000 m\")\n",
        "      ds_refl = ds_refl.rename_vars({'unknown':'refl'})\n",
        "      ds_dir = H.xarray(\":WDIR:10 m\")\n",
        "      ds_spd = H.xarray(\":WIND:10 m\")\n",
        "      ds_spd = ds_spd.metpy.parse_cf('si10', coordinates={'time':'time','vertical':ds_spd.si10.GRIB_typeOfLevel,'longitude':'longitude','latitude':'latitude'})   * units('kt')\n",
        "      ds_dir = ds_dir.metpy.parse_cf('wdir10',coordinates={'time':'time','vertical':ds_dir.wdir10.GRIB_typeOfLevel,'longitude':'longitude','latitude':'latitude'})  * units.deg\n",
        "      ds_dir = ds_dir.metpy.assign_y_x(force = True)\n",
        "      ds_dir = ds_dir.assign_attrs({\"GRIB_units\":\"degrees\"})\n",
        "      ds_spd = ds_spd.assign_attrs({\"GRIB_units\":\"knots\"})\n",
        "      ds_spd = ds_spd.metpy.assign_y_x(force = True)\n",
        "      u, v = wind_components(ds_spd, ds_dir)\n",
        "      u = u.assign_attrs({\"GRIB_units\":\"kts\"})\n",
        "      v = v.assign_attrs({\"GRIB_units\":\"kts\"})\n",
        "      u.name = \"u\"      # required to run the xr.merge\n",
        "      v.name = \"v\"      # required to run the xr.merge\n",
        "      wind = xr.merge([u,v])\n",
        "      refl = ds_refl.metpy.parse_cf('refl',coordinates={'time':'time','vertical':ds_refl.refl.GRIB_typeOfLevel,'longitude':'longitude','latitude':'latitude'})\n",
        "      refl = refl.metpy.assign_y_x(force = True)\n",
        "      refl = refl.assign_attrs({\"GRIB_units\":\"dBz\",\"GRIB_name\":\"Max Reflectivity\"})\n",
        "      \n",
        "      contour = FilledContourPlot()\n",
        "      contour.data = refl\n",
        "      contour.colorbar = 'vertical'\n",
        "      contour.contours = list(range(5 , 80, 5))\n",
        "      contour.colormap = 'NWSReflectivity'\n",
        "\n",
        "      barb = BarbPlot()\n",
        "      barb.data = wind\n",
        "      barb.field = ('u','v')\n",
        "      barb.color = 'black'\n",
        "      barb.plot_units = 'kt'\n",
        "      barb.skip = (5,5)\n",
        "      barb.barblength = 5.5\n",
        "\n",
        "      panel = MapPanel()\n",
        "      panel.projection = ccrs.LambertConformal(central_longitude = -114)\n",
        "      panel.area = [-118, -110, 41, 47]   # or 'id', 'us'\n",
        "\n",
        "      panel.layers = ['coastline', 'borders', 'states', 'uscounties']\n",
        "      panel.layers_linewidth = [2, 3, 3, 2]\n",
        "      panel.left_title = ds_refl.model.upper() +\" \"+H.product_description+\": \\n\"+\"Valid: \"+ds_refl.valid_time.dt.strftime('%H:%M UTC %d %b %Y').item()\n",
        "      panel.title_fontsize = 18\n",
        "      panel.right_title = refl.GRIB_name +\"\\n\" + \"10 meter wind (kt)\"\n",
        "      panel.plots = [contour, barb]\n",
        "      \n",
        "      pc = PanelContainer()\n",
        "      pc.size = (30, 20)\n",
        "      pc.panels = [panel]\n",
        "      #pc.show()\n",
        "      return pc\n",
        "    \n",
        "    if elements == 'fire':\n",
        "      pass\n",
        "    \n",
        "    if elements == 'winter':\n",
        "      pass\n"
      ],
      "metadata": {
        "id": "xU6BMvLSNeYS"
      },
      "execution_count": 51,
      "outputs": []
    },
    {
      "cell_type": "code",
      "source": [
        "H = Herbie(dtg, model=mdl, product=model(mdl), fxx=fhr)"
      ],
      "metadata": {
        "colab": {
          "base_uri": "https://localhost:8080/"
        },
        "id": "bwahv1eCrwff",
        "outputId": "82ee881a-4893-4731-fc55-c23b078fce12"
      },
      "execution_count": 41,
      "outputs": [
        {
          "output_type": "stream",
          "name": "stdout",
          "text": [
            "✅ Found ┊ model=hrrr ┊ \u001b[3mproduct=sfc\u001b[0m ┊ \u001b[38;2;41;130;13m2018-May-31 21:00 UTC\u001b[92m F01\u001b[0m ┊ \u001b[38;2;255;153;0m\u001b[3mGRIB2 @ aws\u001b[0m ┊ \u001b[38;2;255;153;0m\u001b[3mIDX @ aws\u001b[0m\n"
          ]
        }
      ]
    },
    {
      "cell_type": "code",
      "source": [
        "graphic = getSubsets(mdl, elements)"
      ],
      "metadata": {
        "id": "mhMHRuNWVEge"
      },
      "execution_count": null,
      "outputs": []
    },
    {
      "cell_type": "code",
      "source": [
        "ds_cape = H.xarray(\":CAPE:surface\")"
      ],
      "metadata": {
        "id": "IEyoranWdl59"
      },
      "execution_count": 13,
      "outputs": []
    },
    {
      "cell_type": "code",
      "source": [],
      "metadata": {
        "id": "mvbJHJ2wWu6G"
      },
      "execution_count": null,
      "outputs": []
    },
    {
      "cell_type": "code",
      "source": [
        "# Running this cell will take around 2 to 5 minutes\n",
        "graphic.show()"
      ],
      "metadata": {
        "colab": {
          "base_uri": "https://localhost:8080/"
        },
        "id": "ucj03uuk5EHv",
        "outputId": "6b90cc88-f8c6-4096-ab8f-6ca01cec2fd3"
      },
      "execution_count": null,
      "outputs": [
        {
          "output_type": "stream",
          "name": "stderr",
          "text": [
            "Could not find variable corresponding to the value of grid_mapping: gribfile_projection\n",
            "/usr/local/lib/python3.8/site-packages/metpy/xarray.py:382: UserWarning: More than one time coordinate present for variable \"u10\".\n",
            "  warnings.warn('More than one ' + axis + ' coordinate present for variable'\n",
            "Could not find variable corresponding to the value of grid_mapping: gribfile_projection\n"
          ]
        }
      ]
    },
    {
      "cell_type": "code",
      "source": [],
      "metadata": {
        "id": "EhvPcGpHeBqr"
      },
      "execution_count": null,
      "outputs": []
    },
    {
      "cell_type": "code",
      "source": [],
      "metadata": {
        "id": "-4iq7f_FK6X7"
      },
      "execution_count": null,
      "outputs": []
    }
  ]
}