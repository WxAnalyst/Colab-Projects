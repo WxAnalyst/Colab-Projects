{
  "nbformat": 4,
  "nbformat_minor": 0,
  "metadata": {
    "colab": {
      "provenance": [],
      "include_colab_link": true
    },
    "kernelspec": {
      "name": "python3",
      "display_name": "Python 3"
    },
    "language_info": {
      "name": "python"
    },
    "widgets": {
      "application/vnd.jupyter.widget-state+json": {
        "bc4044be0cff407cb986e6b97593ec02": {
          "model_module": "@jupyter-widgets/controls",
          "model_name": "DropdownModel",
          "model_module_version": "1.5.0",
          "state": {
            "_dom_classes": [],
            "_model_module": "@jupyter-widgets/controls",
            "_model_module_version": "1.5.0",
            "_model_name": "DropdownModel",
            "_options_labels": [
              "3 MILE IDAHO",
              "ABERDEEN EXPERIMENT STN",
              "AMERICAN FALLS",
              "AMERICAN FALLS 6 NE",
              "ARCO",
              "ARCO 17 SW",
              "ARCO IDAHO",
              "ASHTON 1N",
              "BEAR CANYON",
              "BELLEVUE",
              "BERN",
              "BLACKFOOT FIRE DEPARTMENT",
              "BONANZA IDAHO",
              "BOSTETTER R.S.",
              "BULL CANYON IDAHO",
              "BURLEY MUNICIPAL AIRPORT",
              "CHALLIS AIRPORT",
              "CHALLIS IDAHO",
              "CHILLY BARTON FLAT",
              "CHOCOLATE GULCH",
              "COPPER BASIN IDAHO",
              "CRAB CREEK",
              "CRATERS OF THE MOON",
              "CRYSTAL IDAHO",
              "DALE BITNER IDAHO",
              "DIAMOND FLAT IDAHO",
              "DOLLARHIDE SUMMIT",
              "DOWNEY",
              "DRIGGS",
              "DUBOIS EXPERIMENT STATION",
              "EMIGRANT SUMMIT",
              "FLINT CREEK IDAHO",
              "FORT HALL 1 NNE",
              "FRANKLIN BASIN",
              "GALENA",
              "GALENA SUMMIT",
              "GARFIELD R.S.",
              "GAS CAVES IDAHO",
              "GIVEOUT",
              "GOOSE CREEK IDAHO",
              "GRACE",
              "GRACE IDAHO",
              "HAMER 4 NW",
              "HILTS CREEK",
              "HORTON PEAK IDAHO",
              "HOWE",
              "HOWELL CANYON",
              "HYNDMAN",
              "IDAHO FALLS - KIFI",
              "IDAHO FALLS 16 SE",
              "IDAHO FALLS 46 W",
              "IDAHO FALLS FAA AP",
              "INKOM",
              "ISLAND PARK",
              "ISLAND PARK",
              "ISLAND PARK IDAHO",
              "KETCHUM RANGER STATION",
              "LAVA HOT SPRINGS",
              "LIFTON PUMPING STATION",
              "LITTLE CREEK IDAHO",
              "LOST-WOOD DIVIDE",
              "MACKAY LOST RIVER RS",
              "MALAD CITY",
              "MALAD FAA AP",
              "MALTA",
              "MALTA 4 ESE",
              "MASSACRE ROCKS STATE PARK",
              "MCCAMMON",
              "MENAN 4 NNE",
              "MIDDLE FORK LODGE",
              "MILL CREEK SUMMIT",
              "MINIDOKA DAM",
              "MOBURG CANYON IDAHO",
              "MONTEVIEW",
              "MOODY IDAHO",
              "NORTH FORK IDAHO",
              "OAKLEY",
              "OHIO GULCH IDAHO",
              "OXFORD SPRING",
              "PAUL 1ENE",
              "PICABO",
              "PINE CREEK PASS",
              "PINE CREEK PASS IDAHO (TETON C",
              "POCATELLO 2 NE",
              "POCATELLO CITY",
              "POCATELLO REGIONAL AIRPORT",
              "POCATELLO WFO",
              "POLE CANYON IDAHO",
              "POTTER BUTTE IDAHO",
              "PRESTON",
              "RAFT RIVER IDAHO",
              "REXBURG BYU IDAHO",
              "REXBURG MADISON COUNTY AIRPORT",
              "RICHFIELD",
              "RIGBY",
              "ROCK LAKE IDAHO",
              "SAINT ANTHONY",
              "SEDGWICK PEAK",
              "SHEEP MTN.",
              "SHOSHONE 1 WNW",
              "SLUG CREEK DIVIDE",
              "SMALL 6N",
              "SMILEY MOUNTAIN",
              "SODA SPRINGS AIRPORT",
              "SOMSEN RANCH",
              "STANLEY",
              "STANLEY IDAHO",
              "STANLEY RANGER STATION",
              "STICKNEY MILL",
              "SUGAR CITY",
              "SWAN VALLEY",
              "SWEDE PEAK",
              "TETONIA EXPERIMENT STN",
              "VIENNA MINE",
              "WHITE ELEPHANT",
              "WILDHORSE DIVIDE"
            ],
            "_view_count": null,
            "_view_module": "@jupyter-widgets/controls",
            "_view_module_version": "1.5.0",
            "_view_name": "DropdownView",
            "description": "",
            "description_tooltip": null,
            "disabled": false,
            "index": 76,
            "layout": "IPY_MODEL_16243354da614580a40de66486cff561",
            "style": "IPY_MODEL_c6efac3697f74e72905dc9dc02341b31"
          }
        },
        "16243354da614580a40de66486cff561": {
          "model_module": "@jupyter-widgets/base",
          "model_name": "LayoutModel",
          "model_module_version": "1.2.0",
          "state": {
            "_model_module": "@jupyter-widgets/base",
            "_model_module_version": "1.2.0",
            "_model_name": "LayoutModel",
            "_view_count": null,
            "_view_module": "@jupyter-widgets/base",
            "_view_module_version": "1.2.0",
            "_view_name": "LayoutView",
            "align_content": null,
            "align_items": null,
            "align_self": null,
            "border": null,
            "bottom": null,
            "display": null,
            "flex": null,
            "flex_flow": null,
            "grid_area": null,
            "grid_auto_columns": null,
            "grid_auto_flow": null,
            "grid_auto_rows": null,
            "grid_column": null,
            "grid_gap": null,
            "grid_row": null,
            "grid_template_areas": null,
            "grid_template_columns": null,
            "grid_template_rows": null,
            "height": null,
            "justify_content": null,
            "justify_items": null,
            "left": null,
            "margin": null,
            "max_height": null,
            "max_width": null,
            "min_height": null,
            "min_width": null,
            "object_fit": null,
            "object_position": null,
            "order": null,
            "overflow": null,
            "overflow_x": null,
            "overflow_y": null,
            "padding": null,
            "right": null,
            "top": null,
            "visibility": null,
            "width": null
          }
        },
        "c6efac3697f74e72905dc9dc02341b31": {
          "model_module": "@jupyter-widgets/controls",
          "model_name": "DescriptionStyleModel",
          "model_module_version": "1.5.0",
          "state": {
            "_model_module": "@jupyter-widgets/controls",
            "_model_module_version": "1.5.0",
            "_model_name": "DescriptionStyleModel",
            "_view_count": null,
            "_view_module": "@jupyter-widgets/base",
            "_view_module_version": "1.2.0",
            "_view_name": "StyleView",
            "description_width": ""
          }
        }
      }
    }
  },
  "cells": [
    {
      "cell_type": "markdown",
      "metadata": {
        "id": "view-in-github",
        "colab_type": "text"
      },
      "source": [
        "<a href=\"https://colab.research.google.com/github/WxAnalyst/Colab-Projects/blob/main/Temperature_Streaks.ipynb\" target=\"_parent\"><img src=\"https://colab.research.google.com/assets/colab-badge.svg\" alt=\"Open In Colab\"/></a>"
      ]
    },
    {
      "cell_type": "markdown",
      "source": [
        "#ACIS Cold and Warm 'Streaks'\n",
        "This notebook is designed to download data from xmacis and output the length of cold and warm streaks (where the average daily temperature is below or above climatological normals). The output will also calculate the number of colder and warmer than normal days in the specified period."
      ],
      "metadata": {
        "id": "7oOo1chRcIwq"
      }
    },
    {
      "cell_type": "code",
      "source": [
        "!pip install siphon\n",
        "from siphon.simplewebservice.acis import acis_request\n",
        "import pandas as pd\n",
        "import numpy as np\n",
        "import matplotlib.pyplot as plt\n",
        "import ipywidgets as widgets\n",
        "\n",
        "cwa = \"PIH\" #@param {type:\"string\"}\n",
        "start_date = '2023-01-01' #@param {type:\"date\"}\n",
        "end_date = '2023-04-25'   #@param {type:\"date\"}\n",
        "params = {\"cwa\": cwa, #\"PIH\",\n",
        "          \"elems\":\n",
        "            [{\"name\": \"avgt\",\n",
        "              \"normal\": \"departure\"}],\n",
        "          \"sdate\": start_date, #\"2023-01-01\"},\n",
        "          \"edate\": end_date,   #\"2023-03-31\",\n",
        "          \"meta\": \"name,elems\"}\n",
        "\n",
        "ds = acis_request(\"MultiStnData\", params)"
      ],
      "metadata": {
        "id": "9QzsbmwF0fuG"
      },
      "execution_count": null,
      "outputs": []
    },
    {
      "cell_type": "code",
      "source": [
        "# Create and cleanup the dataframe\n",
        "dj = pd.DataFrame(ds['data'])\n",
        "dj['meta'] = dj['meta'].apply(lambda x: x['name'])\n",
        "for i in range(0, len(dj.data)):\n",
        "   dj.data[i] = [item for sublist in dj.data[i] for item in sublist]\n",
        "\n",
        "# Gather the longest streaks of warmer than and colder than normal temperatures\n",
        "cold_streak = []\n",
        "warm_streak = []\n",
        "countCold = []\n",
        "countWarm = []\n",
        "# Iterate through all stations\n",
        "for ser in range(0, len(dj['data'])):\n",
        "  cold = 0\n",
        "  warm = 0\n",
        "  count_cold = 0\n",
        "  count_warm = 0\n",
        "  max_cold = 0\n",
        "  max_warm = 0\n",
        "  # Iterate through values\n",
        "  for i in range(0, len(dj['data'][ser])):\n",
        "    if dj.data[ser][i] == 'M':\n",
        "      continue\n",
        "    if float(dj.data[ser][i]) < 0:\n",
        "      cold += 1\n",
        "      if warm > max_warm:\n",
        "        max_warm = warm\n",
        "      warm = 0\n",
        "      count_cold += 1\n",
        "    if float(dj.data[ser][i]) > 0:\n",
        "      warm += 1\n",
        "      if cold > max_cold:\n",
        "        max_cold = cold\n",
        "      cold = 0\n",
        "      count_warm += 1\n",
        "    if float(dj.data[ser][i]) == 0:\n",
        "      if warm > max_warm:\n",
        "        max_warm = warm\n",
        "      warm = 0\n",
        "      if cold > max_cold:\n",
        "        max_cold = cold\n",
        "      cold = 0\n",
        "  cold_streak.append(max_cold)\n",
        "  warm_streak.append(max_warm)\n",
        "  countCold.append(count_cold)\n",
        "  countWarm.append(count_warm)\n",
        "\n",
        "# Add the streaks and the counts to the dataframe\n",
        "dj['cold_streak'] = cold_streak\n",
        "dj['warm_streak'] = warm_streak\n",
        "dj['count_cold'] = countCold\n",
        "dj['count_warm'] = countWarm\n",
        "\n",
        "def replace_m_with_nan(lst):\n",
        "  # Set missing 'M' values to nan\n",
        "  return [np.nan if x == 'M' else x for x in lst]\n",
        "\n",
        "dj.data = dj.data.apply(replace_m_with_nan)\n",
        "table = dj[['meta', 'cold_streak','warm_streak','count_cold','count_warm']].copy()\n",
        "\n",
        "site_list = dj.sort_values('meta')\n",
        "picker = widgets.Dropdown(options = site_list.meta, value = \"POCATELLO REGIONAL AIRPORT\")\n",
        "picker"
      ],
      "metadata": {
        "id": "PqCozc0pby7w",
        "colab": {
          "base_uri": "https://localhost:8080/",
          "height": 49,
          "referenced_widgets": [
            "bc4044be0cff407cb986e6b97593ec02",
            "16243354da614580a40de66486cff561",
            "c6efac3697f74e72905dc9dc02341b31"
          ]
        },
        "outputId": "8702cb73-a40d-49dd-dd61-501a1888aebc"
      },
      "execution_count": 5,
      "outputs": [
        {
          "output_type": "display_data",
          "data": {
            "text/plain": [
              "Dropdown(index=85, options=('3 MILE IDAHO', 'ABERDEEN EXPERIMENT STN', 'AMERICAN FALLS', 'AMERICAN FALLS 6 NE'…"
            ],
            "application/vnd.jupyter.widget-view+json": {
              "version_major": 2,
              "version_minor": 0,
              "model_id": "bc4044be0cff407cb986e6b97593ec02"
            }
          },
          "metadata": {}
        }
      ]
    },
    {
      "cell_type": "code",
      "source": [
        "data_list = list(site_list.query('meta == @picker.value')['data'] )\n",
        "\n",
        "fig = plt.figure(figsize = (12,6))\n",
        "ax = fig.add_axes([-20,20,1,1])\n",
        "data = [float(x) for x in data_list[0]]\n",
        "x_axis = range(0, len(data))\n",
        "y_axis = data\n",
        "colors = ['r' if d >= 0 else 'blue' for d in data]\n",
        "\n",
        "\n",
        "ax.bar(x_axis, y_axis, color = colors)\n",
        "ax.set_title(\"Average Temperature Departures for \" + picker.value + \" \"+ start_date + \" - \" + end_date)\n",
        "ax.set_ylabel('Departure from Normal')\n",
        "ax.set_xlabel(\"Days\")\n",
        "ax.grid(axis = 'y')\n",
        "fig.show()"
      ],
      "metadata": {
        "colab": {
          "base_uri": "https://localhost:8080/",
          "height": 702
        },
        "id": "kuu8zxbui91q",
        "outputId": "9d314013-ff31-4f70-d8e6-326196af21d5"
      },
      "execution_count": 31,
      "outputs": [
        {
          "output_type": "display_data",
          "data": {
            "text/plain": [
              "<Figure size 1200x600 with 1 Axes>"
            ],
            "image/png": "[encoded data removed]"
          },
          "metadata": {}
        }
      ]
    },
    {
      "cell_type": "code",
      "source": [],
      "metadata": {
        "id": "fN2rpeRvd1uZ"
      },
      "execution_count": null,
      "outputs": []
    }
  ]
}